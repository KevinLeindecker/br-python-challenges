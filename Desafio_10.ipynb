{
  "cells": [
    {
      "cell_type": "markdown",
      "metadata": {
        "id": "view-in-github",
        "colab_type": "text"
      },
      "source": [
        "<a href=\"https://colab.research.google.com/github/KevinLeindecker/br-python-challenges/blob/master/Desafio_10.ipynb\" target=\"_parent\"><img src=\"https://colab.research.google.com/assets/colab-badge.svg\" alt=\"Open In Colab\"/></a>"
      ]
    },
    {
      "cell_type": "markdown",
      "metadata": {
        "id": "a4-FLDRof6Jv"
      },
      "source": [
        "### Desafio 10\n",
        "\n",
        "Dada uma lista, divida-a em 3 partes iguais e reverta a ordem de cada lista.\n",
        "\n",
        "**Exemplo:** \n",
        "\n",
        "Entrada: \\\n",
        "sampleList = [11, 45, 8, 23, 14, 12, 78, 45, 89]\n",
        "\n",
        "Saída: \\\n",
        "Parte 1 [8, 45, 11] \\\n",
        "Parte 2 [12, 14, 23] \\\n",
        "Parte 3 [89, 45, 78] "
      ]
    },
    {
      "cell_type": "code",
      "execution_count": 3,
      "metadata": {
        "colab": {
          "base_uri": "https://localhost:8080/"
        },
        "id": "IJ70pUjnf6Jw",
        "outputId": "178e5490-1bb8-4aac-9a7e-8aafea86b501"
      },
      "outputs": [
        {
          "output_type": "stream",
          "name": "stdout",
          "text": [
            "(89, 45, 78)\n",
            "(12, 14, 23)\n",
            "(8, 45, 11)\n"
          ]
        }
      ],
      "source": [
        "from itertools import islice\n",
        "\n",
        "lista = [11, 45, 8, 23, 14, 12, 78, 45, 89]\n",
        "\n",
        "def group_elements(lst, chunk_size):\n",
        "    lst = iter(lst)\n",
        "    return iter(lambda: tuple(islice(lst, chunk_size)), ())\n",
        "\n",
        "for new_list in group_elements(reversed(lista), 3):\n",
        "    print(new_list)"
      ]
    },
    {
      "cell_type": "code",
      "execution_count": null,
      "metadata": {
        "id": "pNrXNVqf8Wc1"
      },
      "outputs": [],
      "source": [
        ""
      ]
    }
  ],
  "metadata": {
    "anaconda-cloud": {},
    "colab": {
      "name": "Desafio 10.ipynb",
      "provenance": [],
      "include_colab_link": true
    },
    "kernelspec": {
      "display_name": "Python 3",
      "language": "python",
      "name": "python3"
    },
    "language_info": {
      "codemirror_mode": {
        "name": "ipython",
        "version": 3
      },
      "file_extension": ".py",
      "mimetype": "text/x-python",
      "name": "python",
      "nbconvert_exporter": "python",
      "pygments_lexer": "ipython3",
      "version": "3.7.9"
    }
  },
  "nbformat": 4,
  "nbformat_minor": 0
}